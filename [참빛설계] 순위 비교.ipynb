{
 "cells": [
  {
   "cell_type": "code",
   "execution_count": 1,
   "metadata": {},
   "outputs": [],
   "source": [
    "from scipy import stats"
   ]
  },
  {
   "cell_type": "code",
   "execution_count": 6,
   "metadata": {},
   "outputs": [],
   "source": [
    "import pandas as pd\n",
    "import matplotlib.pyplot as plt\n",
    "import numpy as np"
   ]
  },
  {
   "cell_type": "code",
   "execution_count": 4,
   "metadata": {},
   "outputs": [],
   "source": [
    "#일단 2019년3월 데이터로 사용했습니다. -> 전체 df_all_years 데이터로.\n",
    "data=pd.read_csv('./data/구대학가연령성별응용집계_201903.csv')"
   ]
  },
  {
   "cell_type": "code",
   "execution_count": 5,
   "metadata": {},
   "outputs": [
    {
     "data": {
      "text/html": [
       "<div>\n",
       "<style scoped>\n",
       "    .dataframe tbody tr th:only-of-type {\n",
       "        vertical-align: middle;\n",
       "    }\n",
       "\n",
       "    .dataframe tbody tr th {\n",
       "        vertical-align: top;\n",
       "    }\n",
       "\n",
       "    .dataframe thead th {\n",
       "        text-align: right;\n",
       "    }\n",
       "</style>\n",
       "<table border=\"1\" class=\"dataframe\">\n",
       "  <thead>\n",
       "    <tr style=\"text-align: right;\">\n",
       "      <th></th>\n",
       "      <th>Unnamed: 0</th>\n",
       "      <th>SIGNGU_CD</th>\n",
       "      <th>성별</th>\n",
       "      <th>연령대별</th>\n",
       "      <th>CLASS1</th>\n",
       "      <th>카드이용건수계순위</th>\n",
       "      <th>카드이용금액계순위</th>\n",
       "    </tr>\n",
       "  </thead>\n",
       "  <tbody>\n",
       "    <tr>\n",
       "      <th>0</th>\n",
       "      <td>0</td>\n",
       "      <td>강남구</td>\n",
       "      <td>F</td>\n",
       "      <td>10대</td>\n",
       "      <td>가전/가구</td>\n",
       "      <td>12.0</td>\n",
       "      <td>12.0</td>\n",
       "    </tr>\n",
       "    <tr>\n",
       "      <th>1</th>\n",
       "      <td>1</td>\n",
       "      <td>강남구</td>\n",
       "      <td>F</td>\n",
       "      <td>10대</td>\n",
       "      <td>가정생활/서비스</td>\n",
       "      <td>8.0</td>\n",
       "      <td>10.0</td>\n",
       "    </tr>\n",
       "    <tr>\n",
       "      <th>2</th>\n",
       "      <td>2</td>\n",
       "      <td>강남구</td>\n",
       "      <td>F</td>\n",
       "      <td>10대</td>\n",
       "      <td>교육/학원</td>\n",
       "      <td>6.0</td>\n",
       "      <td>6.0</td>\n",
       "    </tr>\n",
       "    <tr>\n",
       "      <th>3</th>\n",
       "      <td>3</td>\n",
       "      <td>강남구</td>\n",
       "      <td>F</td>\n",
       "      <td>10대</td>\n",
       "      <td>미용</td>\n",
       "      <td>10.0</td>\n",
       "      <td>8.0</td>\n",
       "    </tr>\n",
       "    <tr>\n",
       "      <th>4</th>\n",
       "      <td>4</td>\n",
       "      <td>강남구</td>\n",
       "      <td>F</td>\n",
       "      <td>10대</td>\n",
       "      <td>스포츠/문화/레저</td>\n",
       "      <td>4.0</td>\n",
       "      <td>4.0</td>\n",
       "    </tr>\n",
       "    <tr>\n",
       "      <th>...</th>\n",
       "      <td>...</td>\n",
       "      <td>...</td>\n",
       "      <td>...</td>\n",
       "      <td>...</td>\n",
       "      <td>...</td>\n",
       "      <td>...</td>\n",
       "      <td>...</td>\n",
       "    </tr>\n",
       "    <tr>\n",
       "      <th>15463</th>\n",
       "      <td>15463</td>\n",
       "      <td>중랑구</td>\n",
       "      <td>M</td>\n",
       "      <td>70대이상</td>\n",
       "      <td>의료</td>\n",
       "      <td>4.0</td>\n",
       "      <td>2.0</td>\n",
       "    </tr>\n",
       "    <tr>\n",
       "      <th>15464</th>\n",
       "      <td>15464</td>\n",
       "      <td>중랑구</td>\n",
       "      <td>M</td>\n",
       "      <td>70대이상</td>\n",
       "      <td>의류/잡화</td>\n",
       "      <td>13.0</td>\n",
       "      <td>11.0</td>\n",
       "    </tr>\n",
       "    <tr>\n",
       "      <th>15465</th>\n",
       "      <td>15465</td>\n",
       "      <td>중랑구</td>\n",
       "      <td>M</td>\n",
       "      <td>70대이상</td>\n",
       "      <td>자동차</td>\n",
       "      <td>8.0</td>\n",
       "      <td>6.0</td>\n",
       "    </tr>\n",
       "    <tr>\n",
       "      <th>15466</th>\n",
       "      <td>15466</td>\n",
       "      <td>중랑구</td>\n",
       "      <td>M</td>\n",
       "      <td>70대이상</td>\n",
       "      <td>전자상거래</td>\n",
       "      <td>14.0</td>\n",
       "      <td>12.0</td>\n",
       "    </tr>\n",
       "    <tr>\n",
       "      <th>15467</th>\n",
       "      <td>15467</td>\n",
       "      <td>중랑구</td>\n",
       "      <td>M</td>\n",
       "      <td>70대이상</td>\n",
       "      <td>주유</td>\n",
       "      <td>2.0</td>\n",
       "      <td>1.0</td>\n",
       "    </tr>\n",
       "  </tbody>\n",
       "</table>\n",
       "<p>15468 rows × 7 columns</p>\n",
       "</div>"
      ],
      "text/plain": [
       "       Unnamed: 0 SIGNGU_CD 성별   연령대별     CLASS1  카드이용건수계순위  카드이용금액계순위\n",
       "0               0       강남구  F    10대      가전/가구       12.0       12.0\n",
       "1               1       강남구  F    10대   가정생활/서비스        8.0       10.0\n",
       "2               2       강남구  F    10대      교육/학원        6.0        6.0\n",
       "3               3       강남구  F    10대         미용       10.0        8.0\n",
       "4               4       강남구  F    10대  스포츠/문화/레저        4.0        4.0\n",
       "...           ...       ... ..    ...        ...        ...        ...\n",
       "15463       15463       중랑구  M  70대이상         의료        4.0        2.0\n",
       "15464       15464       중랑구  M  70대이상      의류/잡화       13.0       11.0\n",
       "15465       15465       중랑구  M  70대이상        자동차        8.0        6.0\n",
       "15466       15466       중랑구  M  70대이상      전자상거래       14.0       12.0\n",
       "15467       15467       중랑구  M  70대이상         주유        2.0        1.0\n",
       "\n",
       "[15468 rows x 7 columns]"
      ]
     },
     "execution_count": 5,
     "metadata": {},
     "output_type": "execute_result"
    }
   ],
   "source": [
    "data"
   ]
  },
  {
   "cell_type": "code",
   "execution_count": 23,
   "metadata": {},
   "outputs": [
    {
     "data": {
      "text/plain": [
       "[12.0, 10.0, 6.0, 8.0, 4.0, 11.0, 1.0, 2.0, 9.0, 7.0, 5.0, 14.0, 3.0, 13.0]"
      ]
     },
     "execution_count": 23,
     "metadata": {},
     "output_type": "execute_result"
    }
   ],
   "source": [
    "#10대, 강남구, 여성 으로 설정함.\n",
    "condition=(data['연령대별']=='10대') & (data['성별']=='F')&(data['SIGNGU_CD']=='강남구')\n",
    "#data 데이터에서는 순위가 두 번 반복되어 나와서 임의로 사용한 코드.\n",
    "df=data.loc[condition].loc[0:13]\n",
    "\n",
    "#순위 비교를 위해 리스트로 만듦.\n",
    "df_list=[]\n",
    "for i in df['카드이용금액계순위']:\n",
    "    df_list.append(i)\n",
    "\n",
    "df_list"
   ]
  },
  {
   "cell_type": "code",
   "execution_count": 24,
   "metadata": {},
   "outputs": [
    {
     "data": {
      "text/plain": [
       "0         가전/가구\n",
       "1      가정생활/서비스\n",
       "2         교육/학원\n",
       "3            미용\n",
       "4     스포츠/문화/레저\n",
       "5         여행/교통\n",
       "6         요식/유흥\n",
       "7            유통\n",
       "8         음/식료품\n",
       "9            의료\n",
       "10        의류/잡화\n",
       "11          자동차\n",
       "12        전자상거래\n",
       "13           주유\n",
       "Name: CLASS1, dtype: object"
      ]
     },
     "execution_count": 24,
     "metadata": {},
     "output_type": "execute_result"
    }
   ],
   "source": [
    "df['CLASS1']"
   ]
  },
  {
   "cell_type": "code",
   "execution_count": 26,
   "metadata": {},
   "outputs": [
    {
     "data": {
      "text/html": [
       "<div>\n",
       "<style scoped>\n",
       "    .dataframe tbody tr th:only-of-type {\n",
       "        vertical-align: middle;\n",
       "    }\n",
       "\n",
       "    .dataframe tbody tr th {\n",
       "        vertical-align: top;\n",
       "    }\n",
       "\n",
       "    .dataframe thead th {\n",
       "        text-align: right;\n",
       "    }\n",
       "</style>\n",
       "<table border=\"1\" class=\"dataframe\">\n",
       "  <thead>\n",
       "    <tr style=\"text-align: right;\">\n",
       "      <th></th>\n",
       "      <th>CLASS1</th>\n",
       "      <th>금액</th>\n",
       "    </tr>\n",
       "  </thead>\n",
       "  <tbody>\n",
       "    <tr>\n",
       "      <th>0</th>\n",
       "      <td>가전/가구</td>\n",
       "      <td>0</td>\n",
       "    </tr>\n",
       "    <tr>\n",
       "      <th>1</th>\n",
       "      <td>가정생활/서비스</td>\n",
       "      <td>0</td>\n",
       "    </tr>\n",
       "    <tr>\n",
       "      <th>2</th>\n",
       "      <td>교육/학원</td>\n",
       "      <td>0</td>\n",
       "    </tr>\n",
       "    <tr>\n",
       "      <th>3</th>\n",
       "      <td>미용</td>\n",
       "      <td>17600</td>\n",
       "    </tr>\n",
       "    <tr>\n",
       "      <th>4</th>\n",
       "      <td>스포츠/문화/레저</td>\n",
       "      <td>0</td>\n",
       "    </tr>\n",
       "    <tr>\n",
       "      <th>5</th>\n",
       "      <td>여행/교통</td>\n",
       "      <td>60500</td>\n",
       "    </tr>\n",
       "    <tr>\n",
       "      <th>6</th>\n",
       "      <td>요식/유흥</td>\n",
       "      <td>481300</td>\n",
       "    </tr>\n",
       "    <tr>\n",
       "      <th>7</th>\n",
       "      <td>유통</td>\n",
       "      <td>72700</td>\n",
       "    </tr>\n",
       "    <tr>\n",
       "      <th>8</th>\n",
       "      <td>음/식료품</td>\n",
       "      <td>0</td>\n",
       "    </tr>\n",
       "    <tr>\n",
       "      <th>9</th>\n",
       "      <td>의료</td>\n",
       "      <td>0</td>\n",
       "    </tr>\n",
       "    <tr>\n",
       "      <th>10</th>\n",
       "      <td>의류/잡화</td>\n",
       "      <td>0</td>\n",
       "    </tr>\n",
       "    <tr>\n",
       "      <th>11</th>\n",
       "      <td>자동차</td>\n",
       "      <td>0</td>\n",
       "    </tr>\n",
       "    <tr>\n",
       "      <th>12</th>\n",
       "      <td>전자상거래</td>\n",
       "      <td>0</td>\n",
       "    </tr>\n",
       "    <tr>\n",
       "      <th>13</th>\n",
       "      <td>주유</td>\n",
       "      <td>0</td>\n",
       "    </tr>\n",
       "  </tbody>\n",
       "</table>\n",
       "</div>"
      ],
      "text/plain": [
       "       CLASS1      금액\n",
       "0       가전/가구       0\n",
       "1    가정생활/서비스       0\n",
       "2       교육/학원       0\n",
       "3          미용   17600\n",
       "4   스포츠/문화/레저       0\n",
       "5       여행/교통   60500\n",
       "6       요식/유흥  481300\n",
       "7          유통   72700\n",
       "8       음/식료품       0\n",
       "9          의료       0\n",
       "10      의류/잡화       0\n",
       "11        자동차       0\n",
       "12      전자상거래       0\n",
       "13         주유       0"
      ]
     },
     "execution_count": 26,
     "metadata": {},
     "output_type": "execute_result"
    }
   ],
   "source": [
    "#고객 소비금액 데이터\n",
    "data2=pd.read_excel('./data/소비금액.xlsx')\n",
    "data2"
   ]
  },
  {
   "cell_type": "code",
   "execution_count": 27,
   "metadata": {},
   "outputs": [
    {
     "data": {
      "text/plain": [
       "[0, 0, 0, 17600, 0, 60500, 481300, 72700, 0, 0, 0, 0, 0, 0]"
      ]
     },
     "execution_count": 27,
     "metadata": {},
     "output_type": "execute_result"
    }
   ],
   "source": [
    "#리스트로 만듦\n",
    "user_list=[]\n",
    "for i in data2['금액']:\n",
    "    user_list.append(i)\n",
    "\n",
    "user_list"
   ]
  },
  {
   "cell_type": "code",
   "execution_count": 28,
   "metadata": {},
   "outputs": [
    {
     "data": {
      "text/plain": [
       "[0, 0, 0, 0, 0, 0, 0, 0, 0, 0, 0, 0, 0, 0]"
      ]
     },
     "execution_count": 28,
     "metadata": {},
     "output_type": "execute_result"
    }
   ],
   "source": [
    "#순위 값 저장할 리스트\n",
    "ranking=[]\n",
    "for i in range(len(user_list)):\n",
    "    ranking.append(0)\n",
    "ranking"
   ]
  },
  {
   "cell_type": "code",
   "execution_count": 30,
   "metadata": {},
   "outputs": [
    {
     "data": {
      "text/plain": [
       "[5, 5, 5, 4, 5, 3, 1, 2, 5, 5, 5, 5, 5, 5]"
      ]
     },
     "execution_count": 30,
     "metadata": {},
     "output_type": "execute_result"
    }
   ],
   "source": [
    "#고객 소비금액 데이터의 순위를 매김\n",
    "for i in range(len(user_list)):\n",
    "    ranking[i]=1\n",
    "    for j in range(len(user_list)):\n",
    "        if user_list[i]<user_list[j]:\n",
    "            ranking[i]=ranking[i]+1\n",
    "ranking"
   ]
  },
  {
   "cell_type": "code",
   "execution_count": null,
   "metadata": {},
   "outputs": [],
   "source": []
  },
  {
   "cell_type": "code",
   "execution_count": 32,
   "metadata": {},
   "outputs": [
    {
     "name": "stdout",
     "output_type": "stream",
     "text": [
      "0.30912233386759314\n",
      "0.16619516939049395\n"
     ]
    }
   ],
   "source": [
    "#10대,강남구,여성 데이터와 고객 소비 데이터 두 순위를 비교함.\n",
    "tau, p_value = stats.kendalltau(ranking, df_list)\n",
    "\n",
    "print(tau)\n",
    "print(p_value)"
   ]
  },
  {
   "cell_type": "code",
   "execution_count": null,
   "metadata": {},
   "outputs": [],
   "source": []
  },
  {
   "cell_type": "code",
   "execution_count": null,
   "metadata": {},
   "outputs": [],
   "source": [
    "#https://medium.com/@leejukyung/%EC%BC%84%EB%8B%AC%ED%83%80%EC%9A%B0-kendalltau-18fb90ba4e7 \n",
    "#위 링크 참고했습니다"
   ]
  }
 ],
 "metadata": {
  "kernelspec": {
   "display_name": "Python 3",
   "language": "python",
   "name": "python3"
  },
  "language_info": {
   "codemirror_mode": {
    "name": "ipython",
    "version": 3
   },
   "file_extension": ".py",
   "mimetype": "text/x-python",
   "name": "python",
   "nbconvert_exporter": "python",
   "pygments_lexer": "ipython3",
   "version": "3.8.8"
  }
 },
 "nbformat": 4,
 "nbformat_minor": 4
}
