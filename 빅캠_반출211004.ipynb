{
 "cells": [
  {
   "cell_type": "code",
   "execution_count": 2,
   "metadata": {
    "colab": {
     "base_uri": "https://localhost:8080/"
    },
    "id": "xT6BauZpj4vi",
    "outputId": "012fbea5-e712-4521-e63f-cdc083d01707"
   },
   "outputs": [
    {
     "name": "stderr",
     "output_type": "stream",
     "text": [
      "'sudo'은(는) 내부 또는 외부 명령, 실행할 수 있는 프로그램, 또는\n",
      "배치 파일이 아닙니다.\n",
      "'sudo'은(는) 내부 또는 외부 명령, 실행할 수 있는 프로그램, 또는\n",
      "배치 파일이 아닙니다.\n",
      "'rm'은(는) 내부 또는 외부 명령, 실행할 수 있는 프로그램, 또는\n",
      "배치 파일이 아닙니다.\n"
     ]
    }
   ],
   "source": [
    "import os\n",
    "import pandas as pd\n",
    "from matplotlib import pyplot as plt\n",
    "import numpy as np\n",
    "\n",
    "!sudo apt-get install -y fonts-\n",
    "!sudo fc-cache -fv\n",
    "!rm ~/.cache/matplotlib -rf"
   ]
  },
  {
   "cell_type": "code",
   "execution_count": 3,
   "metadata": {
    "colab": {
     "base_uri": "https://localhost:8080/"
    },
    "id": "s5y9ze-8kUru",
    "outputId": "e0175bfd-90e4-4553-ef50-b562e47441e1"
   },
   "outputs": [
    {
     "data": {
      "text/plain": [
       "['$RECYCLE.BIN',\n",
       " 'Card-recommend-main',\n",
       " 'fonts',\n",
       " 'sepblock.csv',\n",
       " '블록_성별연령대별_201901.csv',\n",
       " '블록_성별연령대별_201901.txt',\n",
       " '블록_성별연령대별_2019011.csv',\n",
       " '블록_성별연령대별_201901111.csv',\n",
       " '블록_성별연령대별_201902.csv',\n",
       " '블록_성별연령대별_201903.txt',\n",
       " '블록_성별연령대별_201904.txt',\n",
       " '블록_성별연령대별_201905.txt',\n",
       " '블록_성별연령대별_201906.txt',\n",
       " '블록_성별연령대별_201907.txt',\n",
       " '블록_성별연령대별_201908.txt',\n",
       " '블록_성별연령대별_201909.txt',\n",
       " '블록_성별연령대별_201910.txt',\n",
       " '블록_성별연령대별_201911.txt',\n",
       " '블록_성별연령대별_201912.txt',\n",
       " '블록_성별연령대별_202001.txt',\n",
       " '블록_성별연령대별_202002.txt',\n",
       " '블록_성별연령대별_202003.txt',\n",
       " '블록_성별연령대별_202004.txt',\n",
       " '블록_성별연령대별_202005.txt',\n",
       " '블록_성별연령대별_202006.txt',\n",
       " '블록_성별연령대별_202007.txt',\n",
       " '블록_성별연령대별_202008.txt',\n",
       " '블록_성별연령대별_202009.txt',\n",
       " '블록_성별연령대별_202010.txt',\n",
       " '블록_성별연령대별_202011.txt',\n",
       " '블록_성별연령대별_202012.txt',\n",
       " '블록_시간대별소액결제건수_201901.txt',\n",
       " '블록_시간대별소액결제건수_201902.txt',\n",
       " '블록_시간대별소액결제건수_201903.txt',\n",
       " '블록_시간대별소액결제건수_201904.txt',\n",
       " '블록_시간대별소액결제건수_201905.txt',\n",
       " '블록_시간대별소액결제건수_201906.txt',\n",
       " '블록_시간대별소액결제건수_201907.txt',\n",
       " '블록_시간대별소액결제건수_201908.txt',\n",
       " '블록_시간대별소액결제건수_201909.txt',\n",
       " '블록_시간대별소액결제건수_201910.txt',\n",
       " '블록_시간대별소액결제건수_201911.txt',\n",
       " '블록_시간대별소액결제건수_201912.txt',\n",
       " '블록_시간대별소액결제건수_202001.txt',\n",
       " '블록_시간대별소액결제건수_202002.txt',\n",
       " '블록_시간대별소액결제건수_202003.txt',\n",
       " '블록_시간대별소액결제건수_202004.txt',\n",
       " '블록_시간대별소액결제건수_202005.txt',\n",
       " '블록_시간대별소액결제건수_202006.txt',\n",
       " '블록_시간대별소액결제건수_202007.txt',\n",
       " '블록_시간대별소액결제건수_202008.txt',\n",
       " '블록_시간대별소액결제건수_202009.txt',\n",
       " '블록_시간대별소액결제건수_202010.txt',\n",
       " '블록_시간대별소액결제건수_202011.txt',\n",
       " '블록_시간대별소액결제건수_202012.txt',\n",
       " '서울시민 카드소비 업종코드.csv',\n",
       " '신한카드_내국인_63업종_코드.csv',\n",
       " '집계구_일별소비지역별_201901.txt',\n",
       " '집계구_일별소비지역별_201902.txt',\n",
       " '집계구_일별소비지역별_201903.txt',\n",
       " '집계구_일별소비지역별_201904.txt',\n",
       " '집계구_일별소비지역별_201905.txt',\n",
       " '집계구_일별소비지역별_201906.txt',\n",
       " '집계구_일별소비지역별_201907.txt',\n",
       " '집계구_일별소비지역별_201908.txt',\n",
       " '집계구_일별소비지역별_201909.txt',\n",
       " '집계구_일별소비지역별_201910.txt',\n",
       " '집계구_일별소비지역별_201911.txt',\n",
       " '집계구_일별소비지역별_201912.txt',\n",
       " '집계구_일별소비지역별_202001.txt',\n",
       " '집계구_일별소비지역별_202002.txt',\n",
       " '집계구_일별소비지역별_202003.txt',\n",
       " '집계구_일별소비지역별_202004.txt',\n",
       " '집계구_일별소비지역별_202005.txt',\n",
       " '집계구_일별소비지역별_202006.txt',\n",
       " '집계구_일별소비지역별_202007.txt',\n",
       " '집계구_일별소비지역별_202008.txt',\n",
       " '집계구_일별소비지역별_202009.txt',\n",
       " '집계구_일별소비지역별_202010.txt',\n",
       " '집계구_일별소비지역별_202011.txt',\n",
       " '집계구_일별소비지역별_202012.txt',\n",
       " '집계구_일별시간대별_201901.txt',\n",
       " '집계구_일별시간대별_201902.txt',\n",
       " '집계구_일별시간대별_201903.txt',\n",
       " '집계구_일별시간대별_201904.txt',\n",
       " '집계구_일별시간대별_201905.txt',\n",
       " '집계구_일별시간대별_201906.txt',\n",
       " '집계구_일별시간대별_201907.txt',\n",
       " '집계구_일별시간대별_201908.txt',\n",
       " '집계구_일별시간대별_201909.txt',\n",
       " '집계구_일별시간대별_201910.txt',\n",
       " '집계구_일별시간대별_201911.txt',\n",
       " '집계구_일별시간대별_201912.txt',\n",
       " '집계구_일별시간대별_202001.txt',\n",
       " '집계구_일별시간대별_202002.txt',\n",
       " '집계구_일별시간대별_202003.txt',\n",
       " '집계구_일별시간대별_202004.txt',\n",
       " '집계구_일별시간대별_202005.txt',\n",
       " '집계구_일별시간대별_202006.txt',\n",
       " '집계구_일별시간대별_202007.txt',\n",
       " '집계구_일별시간대별_202008.txt',\n",
       " '집계구_일별시간대별_202009.txt',\n",
       " '집계구_일별시간대별_202010.txt',\n",
       " '집계구_일별시간대별_202011.txt',\n",
       " '집계구_일별시간대별_202012.txt',\n",
       " '집계구코드.xlsx']"
      ]
     },
     "execution_count": 3,
     "metadata": {},
     "output_type": "execute_result"
    }
   ],
   "source": [
    "path='E:/'\n",
    "os.listdir(path)"
   ]
  },
  {
   "cell_type": "code",
   "execution_count": 4,
   "metadata": {
    "colab": {
     "base_uri": "https://localhost:8080/",
     "height": 257
    },
    "id": "5_7GVYDYlR7Z",
    "outputId": "0fe577a0-eaf8-4985-eb2c-1d1c3954e85c"
   },
   "outputs": [],
   "source": [
    "UPJONG_Df=pd.read_csv(os.path.join(path, '블록_성별연령대별_201901111.csv'),encoding='utf-8', sep='|')\n"
   ]
  },
  {
   "cell_type": "code",
   "execution_count": 5,
   "metadata": {},
   "outputs": [],
   "source": [
    "UPJONG_Df.rename(columns={'서울시민업종코드':'UPJONG_CD'},inplace=True)\n"
   ]
  },
  {
   "cell_type": "code",
   "execution_count": 6,
   "metadata": {
    "colab": {
     "base_uri": "https://localhost:8080/",
     "height": 220
    },
    "collapsed": true,
    "id": "XFru0R1Cq52j",
    "outputId": "aa2d9077-3f34-4842-d5c9-cc3bea8ae255"
   },
   "outputs": [
    {
     "data": {
      "text/html": [
       "<div>\n",
       "<style scoped>\n",
       "    .dataframe tbody tr th:only-of-type {\n",
       "        vertical-align: middle;\n",
       "    }\n",
       "\n",
       "    .dataframe tbody tr th {\n",
       "        vertical-align: top;\n",
       "    }\n",
       "\n",
       "    .dataframe thead th {\n",
       "        text-align: right;\n",
       "    }\n",
       "</style>\n",
       "<table border=\"1\" class=\"dataframe\">\n",
       "  <thead>\n",
       "    <tr style=\"text-align: right;\">\n",
       "      <th></th>\n",
       "      <th>UPJONG_CD</th>\n",
       "      <th>CLASS1</th>\n",
       "      <th>CLASS2</th>\n",
       "      <th>CLASS3</th>\n",
       "    </tr>\n",
       "  </thead>\n",
       "  <tbody>\n",
       "    <tr>\n",
       "      <th>0</th>\n",
       "      <td>SS001</td>\n",
       "      <td>요식/유흥</td>\n",
       "      <td>한식</td>\n",
       "      <td>한식</td>\n",
       "    </tr>\n",
       "    <tr>\n",
       "      <th>1</th>\n",
       "      <td>SS002</td>\n",
       "      <td>요식/유흥</td>\n",
       "      <td>일식/중식/양식</td>\n",
       "      <td>일식</td>\n",
       "    </tr>\n",
       "    <tr>\n",
       "      <th>2</th>\n",
       "      <td>SS003</td>\n",
       "      <td>요식/유흥</td>\n",
       "      <td>일식/중식/양식</td>\n",
       "      <td>양식</td>\n",
       "    </tr>\n",
       "    <tr>\n",
       "      <th>3</th>\n",
       "      <td>SS004</td>\n",
       "      <td>요식/유흥</td>\n",
       "      <td>일식/중식/양식</td>\n",
       "      <td>중식</td>\n",
       "    </tr>\n",
       "    <tr>\n",
       "      <th>4</th>\n",
       "      <td>SS005</td>\n",
       "      <td>요식/유흥</td>\n",
       "      <td>제과/커피/패스트푸드</td>\n",
       "      <td>제과점</td>\n",
       "    </tr>\n",
       "  </tbody>\n",
       "</table>\n",
       "</div>"
      ],
      "text/plain": [
       "  UPJONG_CD CLASS1       CLASS2 CLASS3\n",
       "0     SS001  요식/유흥           한식     한식\n",
       "1     SS002  요식/유흥     일식/중식/양식     일식\n",
       "2     SS003  요식/유흥     일식/중식/양식     양식\n",
       "3     SS004  요식/유흥     일식/중식/양식     중식\n",
       "4     SS005  요식/유흥  제과/커피/패스트푸드    제과점"
      ]
     },
     "execution_count": 6,
     "metadata": {},
     "output_type": "execute_result"
    }
   ],
   "source": [
    "sectorCodeDf=pd.read_csv(os.path.join(path, '서울시민 카드소비 업종코드.csv'), encoding='utf-8')\n",
    "sectorCodeDf['UPJONG_CD'] = sectorCodeDf['UPJONG_CD'].str.upper()\n",
    "sectorCodeDf.head()"
   ]
  },
  {
   "cell_type": "code",
   "execution_count": null,
   "metadata": {},
   "outputs": [],
   "source": []
  },
  {
   "cell_type": "code",
   "execution_count": 7,
   "metadata": {
    "colab": {
     "base_uri": "https://localhost:8080/",
     "height": 257
    },
    "collapsed": true,
    "id": "bgeEA6hurT9M",
    "outputId": "1371fa07-f115-4cd2-875a-fd6a3aee5942"
   },
   "outputs": [
    {
     "name": "stdout",
     "output_type": "stream",
     "text": [
      "<class 'pandas.core.frame.DataFrame'>\n",
      "Int64Index: 10683783 entries, 0 to 10683782\n",
      "Data columns (total 10 columns):\n",
      "UPJONG_CD    object\n",
      "기준년월         int64\n",
      "고객주소블록코드     int64\n",
      "성별           object\n",
      "연령대별         object\n",
      "카드이용금액계      int64\n",
      "카드이용건수계      int64\n",
      "CLASS1       object\n",
      "CLASS2       object\n",
      "CLASS3       object\n",
      "dtypes: int64(4), object(6)\n",
      "memory usage: 896.6+ MB\n"
     ]
    }
   ],
   "source": [
    "UPJONG_Df=pd.merge(UPJONG_Df, sectorCodeDf, how='left', on='UPJONG_CD')\n",
    "UPJONG_Df.head()\n",
    "UPJONG_Df.info()\n"
   ]
  },
  {
   "cell_type": "code",
   "execution_count": 8,
   "metadata": {
    "colab": {
     "base_uri": "https://localhost:8080/",
     "height": 450
    },
    "collapsed": true,
    "id": "Enbnyo7wrkfC",
    "outputId": "190153fd-4a73-4c44-ac1a-7e7e3f4ffa0d"
   },
   "outputs": [
    {
     "data": {
      "text/html": [
       "<div>\n",
       "<style scoped>\n",
       "    .dataframe tbody tr th:only-of-type {\n",
       "        vertical-align: middle;\n",
       "    }\n",
       "\n",
       "    .dataframe tbody tr th {\n",
       "        vertical-align: top;\n",
       "    }\n",
       "\n",
       "    .dataframe thead th {\n",
       "        text-align: right;\n",
       "    }\n",
       "</style>\n",
       "<table border=\"1\" class=\"dataframe\">\n",
       "  <thead>\n",
       "    <tr style=\"text-align: right;\">\n",
       "      <th></th>\n",
       "      <th>카드이용건수계</th>\n",
       "      <th>카드이용금액계</th>\n",
       "    </tr>\n",
       "    <tr>\n",
       "      <th>CLASS1</th>\n",
       "      <th></th>\n",
       "      <th></th>\n",
       "    </tr>\n",
       "  </thead>\n",
       "  <tbody>\n",
       "    <tr>\n",
       "      <th>가전/가구</th>\n",
       "      <td>1548483</td>\n",
       "      <td>288124483029</td>\n",
       "    </tr>\n",
       "    <tr>\n",
       "      <th>가정생활/서비스</th>\n",
       "      <td>14935708</td>\n",
       "      <td>880177453042</td>\n",
       "    </tr>\n",
       "    <tr>\n",
       "      <th>교육/학원</th>\n",
       "      <td>2402004</td>\n",
       "      <td>251570022533</td>\n",
       "    </tr>\n",
       "    <tr>\n",
       "      <th>미용</th>\n",
       "      <td>4413289</td>\n",
       "      <td>174376560059</td>\n",
       "    </tr>\n",
       "    <tr>\n",
       "      <th>스포츠/문화/레저</th>\n",
       "      <td>11995083</td>\n",
       "      <td>335666302383</td>\n",
       "    </tr>\n",
       "    <tr>\n",
       "      <th>여행/교통</th>\n",
       "      <td>6609428</td>\n",
       "      <td>410895400465</td>\n",
       "    </tr>\n",
       "    <tr>\n",
       "      <th>요식/유흥</th>\n",
       "      <td>88740227</td>\n",
       "      <td>1741590874949</td>\n",
       "    </tr>\n",
       "    <tr>\n",
       "      <th>유통</th>\n",
       "      <td>101747043</td>\n",
       "      <td>1962114962404</td>\n",
       "    </tr>\n",
       "    <tr>\n",
       "      <th>음/식료품</th>\n",
       "      <td>9670107</td>\n",
       "      <td>242096094426</td>\n",
       "    </tr>\n",
       "    <tr>\n",
       "      <th>의료</th>\n",
       "      <td>18577280</td>\n",
       "      <td>909655333536</td>\n",
       "    </tr>\n",
       "    <tr>\n",
       "      <th>의류/잡화</th>\n",
       "      <td>3724306</td>\n",
       "      <td>246693330936</td>\n",
       "    </tr>\n",
       "    <tr>\n",
       "      <th>자동차</th>\n",
       "      <td>2142715</td>\n",
       "      <td>259558500745</td>\n",
       "    </tr>\n",
       "    <tr>\n",
       "      <th>전자상거래</th>\n",
       "      <td>29663983</td>\n",
       "      <td>1765960829644</td>\n",
       "    </tr>\n",
       "    <tr>\n",
       "      <th>주유</th>\n",
       "      <td>8602547</td>\n",
       "      <td>382151294748</td>\n",
       "    </tr>\n",
       "  </tbody>\n",
       "</table>\n",
       "</div>"
      ],
      "text/plain": [
       "             카드이용건수계        카드이용금액계\n",
       "CLASS1                             \n",
       "가전/가구        1548483   288124483029\n",
       "가정생활/서비스    14935708   880177453042\n",
       "교육/학원        2402004   251570022533\n",
       "미용           4413289   174376560059\n",
       "스포츠/문화/레저   11995083   335666302383\n",
       "여행/교통        6609428   410895400465\n",
       "요식/유흥       88740227  1741590874949\n",
       "유통         101747043  1962114962404\n",
       "음/식료품        9670107   242096094426\n",
       "의료          18577280   909655333536\n",
       "의류/잡화        3724306   246693330936\n",
       "자동차          2142715   259558500745\n",
       "전자상거래       29663983  1765960829644\n",
       "주유           8602547   382151294748"
      ]
     },
     "execution_count": 8,
     "metadata": {},
     "output_type": "execute_result"
    }
   ],
   "source": [
    "UPbig_Df=UPJONG_Df.pivot_table(index=['CLASS1'],values=['카드이용금액계','카드이용건수계'],aggfunc='sum')\n",
    "UPbig_Df"
   ]
  },
  {
   "cell_type": "code",
   "execution_count": 10,
   "metadata": {
    "scrolled": false
   },
   "outputs": [],
   "source": [
    "UPadd_Df=UPJONG_Df.pivot_table(index=['성별','연령대별','CLASS1'],values=['카드이용금액계','카드이용건수계'],aggfunc='sum')\n",
    "UPadd_Df.to_csv('성별연령.csv')\n"
   ]
  },
  {
   "cell_type": "code",
   "execution_count": 86,
   "metadata": {},
   "outputs": [],
   "source": [
    "UPadd2_Df=UPJONG_Df.pivot_table(index=['CLASS1','연령대별'],values=['카드이용금액계','카드이용건수계'],aggfunc='sum')\n",
    "UPadd2_Df\n",
    "\n",
    "UPadd2_Df.to_csv('업종연령.csv')"
   ]
  },
  {
   "cell_type": "code",
   "execution_count": 87,
   "metadata": {
    "scrolled": true
   },
   "outputs": [],
   "source": [
    "UPadd3_Df=UPJONG_Df.pivot_table(index=['CLASS1','연령대별','성별'],values=['카드이용금액계','카드이용건수계'],aggfunc='sum')\n",
    "UPadd3_Df\n",
    "UPadd3_Df.to_csv('업종연령성별.csv')"
   ]
  },
  {
   "cell_type": "code",
   "execution_count": 88,
   "metadata": {},
   "outputs": [],
   "source": [
    "UPadd4_Df=UPJONG_Df.pivot_table(index=['연령대별'],values=['카드이용금액계','카드이용건수계'],aggfunc='sum')\n",
    "UPadd4_Df\n",
    "UPadd4_Df.to_csv('연령.csv')"
   ]
  },
  {
   "cell_type": "code",
   "execution_count": 89,
   "metadata": {},
   "outputs": [],
   "source": [
    "UPadd5_Df=UPJONG_Df.pivot_table(index=['연령대별','CLASS1'],values=['카드이용금액계','카드이용건수계'],aggfunc='sum')\n",
    "UPadd5_Df.to_csv('연령업종.csv')\n"
   ]
  },
  {
   "cell_type": "code",
   "execution_count": null,
   "metadata": {},
   "outputs": [],
   "source": []
  },
  {
   "cell_type": "code",
   "execution_count": 79,
   "metadata": {
    "colab": {
     "base_uri": "https://localhost:8080/",
     "height": 726
    },
    "collapsed": true,
    "id": "TOwt0AiisrMS",
    "outputId": "ddaa850b-e1a0-44be-e47e-9f84a5fab0ae"
   },
   "outputs": [
    {
     "data": {
      "text/html": [
       "<div>\n",
       "<style scoped>\n",
       "    .dataframe tbody tr th:only-of-type {\n",
       "        vertical-align: middle;\n",
       "    }\n",
       "\n",
       "    .dataframe tbody tr th {\n",
       "        vertical-align: top;\n",
       "    }\n",
       "\n",
       "    .dataframe thead th {\n",
       "        text-align: right;\n",
       "    }\n",
       "</style>\n",
       "<table border=\"1\" class=\"dataframe\">\n",
       "  <thead>\n",
       "    <tr style=\"text-align: right;\">\n",
       "      <th></th>\n",
       "      <th>카드이용건수계</th>\n",
       "      <th>카드이용금액계</th>\n",
       "    </tr>\n",
       "    <tr>\n",
       "      <th>CLASS2</th>\n",
       "      <th></th>\n",
       "      <th></th>\n",
       "    </tr>\n",
       "  </thead>\n",
       "  <tbody>\n",
       "    <tr>\n",
       "      <th>가전/가구</th>\n",
       "      <td>1548483</td>\n",
       "      <td>288124483029</td>\n",
       "    </tr>\n",
       "    <tr>\n",
       "      <th>각종요금</th>\n",
       "      <td>11552586</td>\n",
       "      <td>715087536713</td>\n",
       "    </tr>\n",
       "    <tr>\n",
       "      <th>교육용품</th>\n",
       "      <td>1631181</td>\n",
       "      <td>41208752182</td>\n",
       "    </tr>\n",
       "    <tr>\n",
       "      <th>교통</th>\n",
       "      <td>4662422</td>\n",
       "      <td>110063646368</td>\n",
       "    </tr>\n",
       "    <tr>\n",
       "      <th>기타요식</th>\n",
       "      <td>28396657</td>\n",
       "      <td>441925687905</td>\n",
       "    </tr>\n",
       "    <tr>\n",
       "      <th>기타유통</th>\n",
       "      <td>4769487</td>\n",
       "      <td>301889200564</td>\n",
       "    </tr>\n",
       "    <tr>\n",
       "      <th>기타의료</th>\n",
       "      <td>135656</td>\n",
       "      <td>45841970830</td>\n",
       "    </tr>\n",
       "    <tr>\n",
       "      <th>미용서비스</th>\n",
       "      <td>3090828</td>\n",
       "      <td>112517978292</td>\n",
       "    </tr>\n",
       "    <tr>\n",
       "      <th>백화점</th>\n",
       "      <td>5980986</td>\n",
       "      <td>422019436605</td>\n",
       "    </tr>\n",
       "    <tr>\n",
       "      <th>병원</th>\n",
       "      <td>10155996</td>\n",
       "      <td>738854400167</td>\n",
       "    </tr>\n",
       "    <tr>\n",
       "      <th>서비스</th>\n",
       "      <td>2856567</td>\n",
       "      <td>120626476996</td>\n",
       "    </tr>\n",
       "    <tr>\n",
       "      <th>숙박</th>\n",
       "      <td>1149808</td>\n",
       "      <td>90782786796</td>\n",
       "    </tr>\n",
       "    <tr>\n",
       "      <th>스포츠/문화/레저</th>\n",
       "      <td>10589792</td>\n",
       "      <td>234213850056</td>\n",
       "    </tr>\n",
       "    <tr>\n",
       "      <th>스포츠/문화/레저용품</th>\n",
       "      <td>1405291</td>\n",
       "      <td>101452452327</td>\n",
       "    </tr>\n",
       "    <tr>\n",
       "      <th>약국</th>\n",
       "      <td>8285628</td>\n",
       "      <td>124958962539</td>\n",
       "    </tr>\n",
       "    <tr>\n",
       "      <th>여행</th>\n",
       "      <td>797198</td>\n",
       "      <td>210048967301</td>\n",
       "    </tr>\n",
       "    <tr>\n",
       "      <th>유아교육</th>\n",
       "      <td>278250</td>\n",
       "      <td>76797061297</td>\n",
       "    </tr>\n",
       "    <tr>\n",
       "      <th>유흥</th>\n",
       "      <td>982733</td>\n",
       "      <td>76730107616</td>\n",
       "    </tr>\n",
       "    <tr>\n",
       "      <th>음/식료품</th>\n",
       "      <td>9670107</td>\n",
       "      <td>242096094426</td>\n",
       "    </tr>\n",
       "    <tr>\n",
       "      <th>의복/의류</th>\n",
       "      <td>2763508</td>\n",
       "      <td>172858494743</td>\n",
       "    </tr>\n",
       "    <tr>\n",
       "      <th>인테리어</th>\n",
       "      <td>526555</td>\n",
       "      <td>44463439333</td>\n",
       "    </tr>\n",
       "    <tr>\n",
       "      <th>일식/중식/양식</th>\n",
       "      <td>7855954</td>\n",
       "      <td>238397610204</td>\n",
       "    </tr>\n",
       "    <tr>\n",
       "      <th>자동차서비스/용품</th>\n",
       "      <td>2097969</td>\n",
       "      <td>106595209209</td>\n",
       "    </tr>\n",
       "    <tr>\n",
       "      <th>자동차판매</th>\n",
       "      <td>44746</td>\n",
       "      <td>152963291536</td>\n",
       "    </tr>\n",
       "    <tr>\n",
       "      <th>전자상거래</th>\n",
       "      <td>29663983</td>\n",
       "      <td>1765960829644</td>\n",
       "    </tr>\n",
       "    <tr>\n",
       "      <th>제과/커피/패스트푸드</th>\n",
       "      <td>20455401</td>\n",
       "      <td>176859331840</td>\n",
       "    </tr>\n",
       "    <tr>\n",
       "      <th>주유</th>\n",
       "      <td>8602547</td>\n",
       "      <td>382151294748</td>\n",
       "    </tr>\n",
       "    <tr>\n",
       "      <th>패션/잡화</th>\n",
       "      <td>960798</td>\n",
       "      <td>73834836193</td>\n",
       "    </tr>\n",
       "    <tr>\n",
       "      <th>편의점</th>\n",
       "      <td>46363258</td>\n",
       "      <td>275799823539</td>\n",
       "    </tr>\n",
       "    <tr>\n",
       "      <th>학원</th>\n",
       "      <td>492573</td>\n",
       "      <td>133564209054</td>\n",
       "    </tr>\n",
       "    <tr>\n",
       "      <th>한식</th>\n",
       "      <td>31049482</td>\n",
       "      <td>807678137384</td>\n",
       "    </tr>\n",
       "    <tr>\n",
       "      <th>할인점/슈퍼마켓</th>\n",
       "      <td>44633312</td>\n",
       "      <td>962406501696</td>\n",
       "    </tr>\n",
       "    <tr>\n",
       "      <th>화장품</th>\n",
       "      <td>1322461</td>\n",
       "      <td>61858581767</td>\n",
       "    </tr>\n",
       "  </tbody>\n",
       "</table>\n",
       "</div>"
      ],
      "text/plain": [
       "              카드이용건수계        카드이용금액계\n",
       "CLASS2                              \n",
       "가전/가구         1548483   288124483029\n",
       "각종요금         11552586   715087536713\n",
       "교육용품          1631181    41208752182\n",
       "교통            4662422   110063646368\n",
       "기타요식         28396657   441925687905\n",
       "기타유통          4769487   301889200564\n",
       "기타의료           135656    45841970830\n",
       "미용서비스         3090828   112517978292\n",
       "백화점           5980986   422019436605\n",
       "병원           10155996   738854400167\n",
       "서비스           2856567   120626476996\n",
       "숙박            1149808    90782786796\n",
       "스포츠/문화/레저    10589792   234213850056\n",
       "스포츠/문화/레저용품   1405291   101452452327\n",
       "약국            8285628   124958962539\n",
       "여행             797198   210048967301\n",
       "유아교육           278250    76797061297\n",
       "유흥             982733    76730107616\n",
       "음/식료품         9670107   242096094426\n",
       "의복/의류         2763508   172858494743\n",
       "인테리어           526555    44463439333\n",
       "일식/중식/양식      7855954   238397610204\n",
       "자동차서비스/용품     2097969   106595209209\n",
       "자동차판매           44746   152963291536\n",
       "전자상거래        29663983  1765960829644\n",
       "제과/커피/패스트푸드  20455401   176859331840\n",
       "주유            8602547   382151294748\n",
       "패션/잡화          960798    73834836193\n",
       "편의점          46363258   275799823539\n",
       "학원             492573   133564209054\n",
       "한식           31049482   807678137384\n",
       "할인점/슈퍼마켓     44633312   962406501696\n",
       "화장품           1322461    61858581767"
      ]
     },
     "execution_count": 79,
     "metadata": {},
     "output_type": "execute_result"
    }
   ],
   "source": [
    "# UPmid_Df=UPJONG_Df.pivot_table(index=['SB_L_UPJONG_NM(대분류_13분류)','SB_M_UPJONG_NM(중분류_30분류)'],values=['AMT_CORR(카드이용금액계)','USECT_CORR(카드이용건수)'],aggfunc='sum')\n",
    "UPmid_Df=UPJONG_Df.pivot_table(index=['CLASS2'],values=['카드이용금액계','카드이용건수계'],aggfunc='sum')\n",
    "UPmid_Df"
   ]
  },
  {
   "cell_type": "code",
   "execution_count": 71,
   "metadata": {
    "colab": {
     "base_uri": "https://localhost:8080/",
     "height": 1000
    },
    "id": "a1aazdmCtn0E",
    "outputId": "761211a2-fccd-4e31-dc23-0cd4388ed895",
    "scrolled": true
   },
   "outputs": [
    {
     "data": {
      "text/plain": [
       "[<matplotlib.lines.Line2D at 0xc067c3d940>,\n",
       " <matplotlib.lines.Line2D at 0xc067c3da20>]"
      ]
     },
     "execution_count": 71,
     "metadata": {},
     "output_type": "execute_result"
    },
    {
     "data": {
      "image/png": "[encoded data removed]",
      "text/plain": [
       "<Figure size 1080x576 with 1 Axes>"
      ]
     },
     "metadata": {
      "needs_background": "light"
     },
     "output_type": "display_data"
    }
   ],
   "source": [
    "plt.rc('font', family='batang')\n",
    "plt.figure(figsize=(15,8))\n",
    "plt.plot(UPbig_Df)\n",
    "\n",
    "# UPbig_Df.T.plot(axis=0)\n",
    "# plt.rcParams[\"figure.figsize\"] = (10,7)|\n",
    "# plt.show()"
   ]
  },
  {
   "cell_type": "code",
   "execution_count": 72,
   "metadata": {
    "colab": {
     "base_uri": "https://localhost:8080/",
     "height": 1000
    },
    "id": "6-X3I-ai2eVW",
    "outputId": "aba8ead3-ee9d-4712-ef24-76dc77e4cc57"
   },
   "outputs": [
    {
     "data": {
      "text/plain": [
       "[<matplotlib.lines.Line2D at 0xc00e2c8f98>,\n",
       " <matplotlib.lines.Line2D at 0xc00e2d50f0>]"
      ]
     },
     "execution_count": 72,
     "metadata": {},
     "output_type": "execute_result"
    },
    {
     "data": {
      "image/png": "[encoded data removed]",
      "text/plain": [
       "<Figure size 1080x576 with 1 Axes>"
      ]
     },
     "metadata": {
      "needs_background": "light"
     },
     "output_type": "display_data"
    }
   ],
   "source": [
    "plt.figure(figsize=(15,8))\n",
    "plt.plot(UPmid_Df)"
   ]
  },
  {
   "cell_type": "code",
   "execution_count": null,
   "metadata": {},
   "outputs": [],
   "source": []
  }
 ],
 "metadata": {
  "colab": {
   "collapsed_sections": [],
   "name": "AnalysisCardDataAsDomain.ipynb",
   "provenance": []
  },
  "kernelspec": {
   "display_name": "Python 3",
   "language": "python",
   "name": "python3"
  },
  "language_info": {
   "codemirror_mode": {
    "name": "ipython",
    "version": 3
   },
   "file_extension": ".py",
   "mimetype": "text/x-python",
   "name": "python",
   "nbconvert_exporter": "python",
   "pygments_lexer": "ipython3",
   "version": "3.7.3"
  }
 },
 "nbformat": 4,
 "nbformat_minor": 1
}
